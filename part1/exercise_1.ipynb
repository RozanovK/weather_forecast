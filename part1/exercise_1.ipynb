{
 "cells": [
  {
   "cell_type": "markdown",
   "metadata": {},
   "source": [
    "What is 7 to the power of 4?"
   ]
  },
  {
   "cell_type": "code",
   "execution_count": 1,
   "metadata": {},
   "outputs": [
    {
     "data": {
      "text/plain": [
       "2401"
      ]
     },
     "execution_count": 1,
     "metadata": {},
     "output_type": "execute_result"
    }
   ],
   "source": [
    "7**4"
   ]
  },
  {
   "cell_type": "markdown",
   "metadata": {},
   "source": [
    "Split this string:\n",
    "s = “Hi there Sam!”\n",
    "into a list and replace Sam with dad."
   ]
  },
  {
   "cell_type": "code",
   "execution_count": 11,
   "metadata": {},
   "outputs": [
    {
     "data": {
      "text/plain": [
       "'Hi there dad!'"
      ]
     },
     "execution_count": 11,
     "metadata": {},
     "output_type": "execute_result"
    }
   ],
   "source": [
    "s = \"Hi there Sam!\"\n",
    "s = s.split(\" \")\n",
    "for n, x in enumerate(s):\n",
    "    if x == \"Sam!\":\n",
    "        s[n] = \"dad!\"\n",
    "s = \" \".join(s)\n",
    "s"
   ]
  },
  {
   "cell_type": "markdown",
   "metadata": {},
   "source": [
    "Given the variables:<br/>\n",
    "planet = “Earth”<br/>\n",
    "diameter = 12742<br/>\n",
    "Use .format() to print the following string:<br/>\n",
    "The diameter of Earth is 12742 kilometers.<br/>"
   ]
  },
  {
   "cell_type": "code",
   "execution_count": 13,
   "metadata": {},
   "outputs": [
    {
     "data": {
      "text/plain": [
       "'The diameter of Earth is 12472 kilometers'"
      ]
     },
     "execution_count": 13,
     "metadata": {},
     "output_type": "execute_result"
    }
   ],
   "source": [
    "planet = \"Earth\"\n",
    "diametr = 12472\n",
    "\"The diameter of {} is {} kilometers\".format(planet, diametr)"
   ]
  },
  {
   "cell_type": "markdown",
   "metadata": {},
   "source": [
    "Given this nested list, use indexing to grab the word “hello”<br/>\n",
    "lst = [1,2,[3,4],[5,[100,200,[‘hello’]],23,11],1,7]"
   ]
  },
  {
   "cell_type": "code",
   "execution_count": 22,
   "metadata": {},
   "outputs": [
    {
     "data": {
      "text/plain": [
       "'hello'"
      ]
     },
     "execution_count": 22,
     "metadata": {},
     "output_type": "execute_result"
    }
   ],
   "source": [
    "lst = [1,2,[3,4],[5,[100,200,['hello']],23,11],1,7]\n",
    "lst[3][1][2][0]"
   ]
  },
  {
   "cell_type": "markdown",
   "metadata": {},
   "source": [
    "Given this nested dictionary grab the word “hello”. Be prepared, this will be annoying/tricky<br/>\n",
    "d = {‘k1’:[1,2,3,{‘tricky’:[‘oh’,‘man’,‘inception’,{‘target’:[1,2,3,‘hello’]}]}]}"
   ]
  },
  {
   "cell_type": "code",
   "execution_count": 32,
   "metadata": {},
   "outputs": [
    {
     "data": {
      "text/plain": [
       "'hello'"
      ]
     },
     "execution_count": 32,
     "metadata": {},
     "output_type": "execute_result"
    }
   ],
   "source": [
    "d = {'k1':[1,2,3,{'tricky':['oh','man','inception',{'target':[1,2,3,'hello']}]}]}\n",
    "\n",
    "d['k1'][3]['tricky'][3]['target'][3]"
   ]
  },
  {
   "cell_type": "markdown",
   "metadata": {},
   "source": [
    "What is the main difference between a tuple and a list? Intentionally generate an error by changing a tuple value."
   ]
  },
  {
   "cell_type": "markdown",
   "metadata": {},
   "source": [
    "Answer: lists are mutable, tuples are not"
   ]
  },
  {
   "cell_type": "code",
   "execution_count": 35,
   "metadata": {},
   "outputs": [
    {
     "ename": "TypeError",
     "evalue": "'tuple' object does not support item assignment",
     "output_type": "error",
     "traceback": [
      "\u001b[0;31m---------------------------------------------------------------------------\u001b[0m",
      "\u001b[0;31mTypeError\u001b[0m                                 Traceback (most recent call last)",
      "\u001b[0;32m<ipython-input-35-63dc3ff6fa01>\u001b[0m in \u001b[0;36m<module>\u001b[0;34m()\u001b[0m\n\u001b[1;32m      1\u001b[0m \u001b[0mexample_tuple\u001b[0m \u001b[0;34m=\u001b[0m \u001b[0;34m(\u001b[0m\u001b[0;36m3\u001b[0m\u001b[0;34m,\u001b[0m \u001b[0;36m15\u001b[0m\u001b[0;34m,\u001b[0m \u001b[0;36m6\u001b[0m\u001b[0;34m)\u001b[0m\u001b[0;34m\u001b[0m\u001b[0m\n\u001b[0;32m----> 2\u001b[0;31m \u001b[0mexample_tuple\u001b[0m\u001b[0;34m[\u001b[0m\u001b[0;36m2\u001b[0m\u001b[0;34m]\u001b[0m \u001b[0;34m=\u001b[0m \u001b[0;36m15\u001b[0m\u001b[0;34m\u001b[0m\u001b[0m\n\u001b[0m",
      "\u001b[0;31mTypeError\u001b[0m: 'tuple' object does not support item assignment"
     ]
    }
   ],
   "source": [
    "example_tuple = (3, 15, 6)\n",
    "example_tuple[2] = 15"
   ]
  },
  {
   "cell_type": "markdown",
   "metadata": {},
   "source": [
    "Create a function that grabs the email website domain from a string in the form:<br/>\n",
    "super_user@ee.pw.edu.pl<br/>\n",
    "So for example, passing “super_user@ee.pw.edu.pl” would return: ee.pw.edu.pl<br/>"
   ]
  },
  {
   "cell_type": "code",
   "execution_count": 46,
   "metadata": {},
   "outputs": [],
   "source": [
    "def get_domain(email):\n",
    "    return email.split(\"@\")[-1]\n",
    "\n",
    "assert get_domain(\"super_user@ee.pw.edu.pl\") == 'ee.pw.edu.pl'"
   ]
  },
  {
   "cell_type": "markdown",
   "metadata": {},
   "source": [
    "Create a basic function that returns True if the word ‘car’ is contained in the input string. Don’t worry about edge cases like a punctuation being attached to the word car, but do account for capitalization."
   ]
  },
  {
   "cell_type": "code",
   "execution_count": 43,
   "metadata": {},
   "outputs": [],
   "source": [
    "def is_car_in_string(s):\n",
    "    s = s.lower()                       #in order to get rid of capitalization\n",
    "    if \"car\" in s.split(\" \"):\n",
    "        return True\n",
    "    return False\n",
    "\n",
    "assert is_car_in_string(\"This is great car\") == True\n",
    "assert is_car_in_string(\"This is great Car\") == True\n",
    "assert is_car_in_string(\"This is great sight\") == False"
   ]
  },
  {
   "cell_type": "markdown",
   "metadata": {},
   "source": [
    "Create a function that counts the number of times the word “car” occurs in a string. Again ignore edge cases.<br/>\n",
    "Example:<br/>\n",
    "countCar(‘This car runs faster than the other car dude!’)<br/>\n",
    "2<br/>"
   ]
  },
  {
   "cell_type": "code",
   "execution_count": 52,
   "metadata": {},
   "outputs": [],
   "source": [
    "def count_occurrences(s):\n",
    "    s = s.lower()\n",
    "    count = 0\n",
    "    for word in s.split(\" \"):\n",
    "        if word == \"car\":\n",
    "            count += 1\n",
    "    return count\n",
    "\n",
    "assert count_occurrences('This car runs faster than the other car dude!') == 2\n",
    "assert count_occurrences('This bike runs faster than the other bike dude!') == 0"
   ]
  },
  {
   "cell_type": "markdown",
   "metadata": {},
   "source": [
    "Use lambda expressions and the filter() function to filter out words from a list that don’t start with the letter <br/>‘s’. For example:<br/>\n",
    "seq = [‘soup’,‘dog’,‘salad’,‘cat’,‘great’]<br/>\n",
    "should be filtered down to:<br/>\n",
    "[‘soup’,‘salad’]<br/>"
   ]
  },
  {
   "cell_type": "code",
   "execution_count": 48,
   "metadata": {},
   "outputs": [
    {
     "data": {
      "text/plain": [
       "['soup', 'salad']"
      ]
     },
     "execution_count": 48,
     "metadata": {},
     "output_type": "execute_result"
    }
   ],
   "source": [
    "seq = ['soup', 'dog', 'salad', 'cat', 'great']\n",
    "list(filter(lambda x: x[0]  == 's', seq))"
   ]
  },
  {
   "cell_type": "markdown",
   "metadata": {},
   "source": [
    "Final Problem<br/>\n",
    "You are driving a little too fast, and a police officer stops you. Write a function to return one of 3 possible results: “No ticket”, “Small ticket”, or “Big Ticket”. If your speed is 60 or less, the result is “No Ticket”. If speed is between 61 and 80 inclusive, the result is “Small Ticket”. If speed is 81 or more, the result is “Big Ticket”. Unless it is your birthday (encoded as a boolean value in the parameters of the function) – on your birthday, your speed can be 5 higher in all cases.<br/>\n",
    "<br/>\n",
    "def caught_speeding(speed, is_birthday):<br/>\n",
    "pass<br/>\n",
    "<br/>\n",
    "caught_speeding(81,True)<br/>\n",
    "‘Small Ticket’<br/>\n",
    "<br/>\n",
    "caught_speeding(81,False)<br/>\n",
    "‘Big Ticket’<br/>"
   ]
  },
  {
   "cell_type": "code",
   "execution_count": 51,
   "metadata": {},
   "outputs": [],
   "source": [
    "def caught_speeding(speed, is_birthday):\n",
    "    if is_birthday:\n",
    "        speed -= 5\n",
    "        \n",
    "    if speed <= 60:\n",
    "        return('No Ticket')\n",
    "    elif 60 < speed <= 80:\n",
    "        return('Small Ticket')\n",
    "    else:\n",
    "        return('Big Ticket')\n",
    "    \n",
    "assert caught_speeding(81,True) == 'Small Ticket'\n",
    "assert caught_speeding(81,False) == 'Big Ticket'"
   ]
  }
 ],
 "metadata": {
  "kernelspec": {
   "display_name": "Python 3",
   "language": "python",
   "name": "python3"
  },
  "language_info": {
   "codemirror_mode": {
    "name": "ipython",
    "version": 3
   },
   "file_extension": ".py",
   "mimetype": "text/x-python",
   "name": "python",
   "nbconvert_exporter": "python",
   "pygments_lexer": "ipython3",
   "version": "3.5.2"
  }
 },
 "nbformat": 4,
 "nbformat_minor": 2
}
