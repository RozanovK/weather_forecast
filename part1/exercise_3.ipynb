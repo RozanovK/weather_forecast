{
 "cells": [
  {
   "cell_type": "markdown",
   "metadata": {},
   "source": [
    "Calculate a value of a polynomial for a vector of x coordinates using single line list comprehension expression and a generator.<br/>\n",
    "<br/>\n",
    "The mathematical expression for this operation is:<br/>\n",
    "<br/>\n",
    "yi=c0+c1x+c2x2+…+cnxn for i=0,1,2,…,N\n",
    "You can apply the enumerate() (to get the i’th coefficient of the polynomial and its index to have the exponent of the i’th x) and sum() (to sum up products of ci⋅xi) functions<br/>\n",
    "<br/>\n",
    "Test code:<br/>\n",
    "<br/>\n",
    "c = [1,2,3]<br/>\n",
    "x = [0, 2, 4, 8]<br/>\n",
    "p = _____<br/>\n",
    "print(p)<br/>\n",
    "<br/>\n",
    "Should print:<br/>\n",
    "[1, 17, 57, 209]<br/>"
   ]
  },
  {
   "cell_type": "code",
   "execution_count": 5,
   "metadata": {},
   "outputs": [],
   "source": [
    "c = [1,2,3]\n",
    "x = [0, 2, 4, 8]\n",
    "\n",
    "p = [sum([_c*(_x**n) for n, _c in enumerate(c)]) for _x in x]\n",
    "\n",
    "assert p == [1, 17, 57, 209]"
   ]
  },
  {
   "cell_type": "markdown",
   "metadata": {},
   "source": [
    "Generate a smooth polynomial plot from Task 1 using a dense vector of x coordinates<br/>\n",
    "<br/>\n",
    "n = 100<br/>\n",
    "xd = [8*x/n for x in range(n)]<br/>"
   ]
  },
  {
   "cell_type": "code",
   "execution_count": 17,
   "metadata": {},
   "outputs": [
    {
     "data": {
      "text/plain": [
       "[<matplotlib.lines.Line2D at 0x7f2529438cc0>]"
      ]
     },
     "execution_count": 17,
     "metadata": {},
     "output_type": "execute_result"
    },
    {
     "data": {
      "image/png": "[encoded data removed]",
      "text/plain": [
       "<Figure size 432x288 with 1 Axes>"
      ]
     },
     "metadata": {},
     "output_type": "display_data"
    }
   ],
   "source": [
    "import matplotlib.pyplot as plt\n",
    "\n",
    "n = 100\n",
    "xd = [8*x/n for x in range(n)]\n",
    "yd =[sum([_c*(_x**n) for n, _c in enumerate(c)]) for _x in xd]\n",
    "plt.plot(xd,yd)\n"
   ]
  },
  {
   "cell_type": "markdown",
   "metadata": {},
   "source": [
    "Using a conditional list comprehension, convert all occurrences of the letter ‘e’ in the following string to uppercase: thepurposeoflife<br/>\n",
    "<br/>\n",
    "You can use ''.join( alist ) to join a list of characters into a single string.<br/>\n",
    "<br/>\n",
    "upperstr = 'thepurposeoflife'<br/>\n",
    "upperstr = ______<br/>\n",
    "print(upperstr)<br/>"
   ]
  },
  {
   "cell_type": "code",
   "execution_count": 20,
   "metadata": {},
   "outputs": [
    {
     "data": {
      "text/plain": [
       "'thEpurposEoflifE'"
      ]
     },
     "execution_count": 20,
     "metadata": {},
     "output_type": "execute_result"
    }
   ],
   "source": [
    "s = 'thepurposeoflife'\n",
    "s = \"\".join([sign.upper() if sign == 'e' else sign for sign in s])\n",
    "s"
   ]
  },
  {
   "cell_type": "markdown",
   "metadata": {},
   "source": [
    "**Task 4 - tuples as records**"
   ]
  },
  {
   "cell_type": "code",
   "execution_count": 26,
   "metadata": {},
   "outputs": [
    {
     "data": {
      "text/plain": [
       "'Student name: Sam, Age: 19, Faculty: CS\\nStudent name: Nicole, Age: 21, Faculty: Biochemistry\\nStudent name: Paul, Age: 20, Faculty: Fine Arts\\nStudent name: Ashley, Age: 18, Faculty: History'"
      ]
     },
     "execution_count": 26,
     "metadata": {},
     "output_type": "execute_result"
    }
   ],
   "source": [
    "def show_records(records):\n",
    "    text = []\n",
    "    for i in records:\n",
    "        text.append(\"Student name: {}, Age: {}, Faculty: {}\".format(i[0], i[1], i[2]))\n",
    "    return \"\\n\".join(text)\n",
    "\n",
    "records = ((\"Sam\", 19, \"CS\"), (\"Nicole\", 21, \"Biochemistry\"), (\"Paul\", 20, \"Fine Arts\"), (\"Ashley\", 18, \"History\"))\n",
    "show_records(records)"
   ]
  },
  {
   "cell_type": "markdown",
   "metadata": {},
   "source": [
    "**Task 5 - Closures**"
   ]
  },
  {
   "cell_type": "code",
   "execution_count": 27,
   "metadata": {},
   "outputs": [],
   "source": [
    "def multiplier_of(n):\n",
    "    def multiplier(number):\n",
    "        return number*n\n",
    "    return multiplier\n",
    "\n",
    "multiply_with_5 = multiplier_of(5)\n",
    "assert multiply_with_5(9) == 45\n",
    "\n",
    "multiply_with_45 = multiplier_of(multiply_with_5(9))\n",
    "assert multiply_with_45(2) == 90"
   ]
  },
  {
   "cell_type": "markdown",
   "metadata": {},
   "source": [
    "**Task 6 - decorators with arguments**"
   ]
  },
  {
   "cell_type": "code",
   "execution_count": 40,
   "metadata": {},
   "outputs": [
    {
     "name": "stdout",
     "output_type": "stream",
     "text": [
      "4\n",
      "Bad Type\n",
      "H\n",
      "Bad Type\n"
     ]
    },
    {
     "data": {
      "text/plain": [
       "'Not'"
      ]
     },
     "execution_count": 40,
     "metadata": {},
     "output_type": "execute_result"
    }
   ],
   "source": [
    "def type_check(correct_type):\n",
    "    def check(f):\n",
    "        def new_f(arg):\n",
    "            try:\n",
    "                assert isinstance(arg, correct_type), \"Bad Type\"\n",
    "            except AssertionError:\n",
    "                print(\"Bad Type\")\n",
    "            return f(arg)\n",
    "        new_f.__name__ = f.__name__\n",
    "        return new_f\n",
    "    return check\n",
    "  \n",
    "# Use  isinstance(arg, correct_type) to check if arg is of correct type\n",
    "\n",
    "@type_check(int)\n",
    "def times2(num):\n",
    "    return num*2\n",
    "\n",
    "print(times2(2))\n",
    "times2('Not A Number')\n",
    "\n",
    "@type_check(str)\n",
    "def first_letter(word):\n",
    "    return word[0]\n",
    "\n",
    "print(first_letter('Hello World'))\n",
    "first_letter(['Not', 'A', 'String'])"
   ]
  },
  {
   "cell_type": "markdown",
   "metadata": {},
   "source": [
    "**Task 7 - Registering Plugins**\n",
    "***Do poprawienia***"
   ]
  },
  {
   "cell_type": "code",
   "execution_count": 43,
   "metadata": {},
   "outputs": [
    {
     "name": "stdout",
     "output_type": "stream",
     "text": [
      "<function say_hello at 0x7f25293b9048>\n",
      "<function be_awesome at 0x7f25293b9048>\n"
     ]
    },
    {
     "ename": "IndexError",
     "evalue": "Cannot choose from an empty sequence",
     "output_type": "error",
     "traceback": [
      "\u001b[0;31m---------------------------------------------------------------------------\u001b[0m",
      "\u001b[0;31mValueError\u001b[0m                                Traceback (most recent call last)",
      "\u001b[0;32m/usr/lib/python3.5/random.py\u001b[0m in \u001b[0;36mchoice\u001b[0;34m(self, seq)\u001b[0m\n\u001b[1;32m    252\u001b[0m         \u001b[0;32mtry\u001b[0m\u001b[0;34m:\u001b[0m\u001b[0;34m\u001b[0m\u001b[0m\n\u001b[0;32m--> 253\u001b[0;31m             \u001b[0mi\u001b[0m \u001b[0;34m=\u001b[0m \u001b[0mself\u001b[0m\u001b[0;34m.\u001b[0m\u001b[0m_randbelow\u001b[0m\u001b[0;34m(\u001b[0m\u001b[0mlen\u001b[0m\u001b[0;34m(\u001b[0m\u001b[0mseq\u001b[0m\u001b[0;34m)\u001b[0m\u001b[0;34m)\u001b[0m\u001b[0;34m\u001b[0m\u001b[0m\n\u001b[0m\u001b[1;32m    254\u001b[0m         \u001b[0;32mexcept\u001b[0m \u001b[0mValueError\u001b[0m\u001b[0;34m:\u001b[0m\u001b[0;34m\u001b[0m\u001b[0m\n",
      "\u001b[0;32m/usr/lib/python3.5/random.py\u001b[0m in \u001b[0;36m_randbelow\u001b[0;34m(self, n, int, maxsize, type, Method, BuiltinMethod)\u001b[0m\n\u001b[1;32m    229\u001b[0m             \u001b[0mk\u001b[0m \u001b[0;34m=\u001b[0m \u001b[0mn\u001b[0m\u001b[0;34m.\u001b[0m\u001b[0mbit_length\u001b[0m\u001b[0;34m(\u001b[0m\u001b[0;34m)\u001b[0m  \u001b[0;31m# don't use (n-1) here because n can be 1\u001b[0m\u001b[0;34m\u001b[0m\u001b[0m\n\u001b[0;32m--> 230\u001b[0;31m             \u001b[0mr\u001b[0m \u001b[0;34m=\u001b[0m \u001b[0mgetrandbits\u001b[0m\u001b[0;34m(\u001b[0m\u001b[0mk\u001b[0m\u001b[0;34m)\u001b[0m          \u001b[0;31m# 0 <= r < 2**k\u001b[0m\u001b[0;34m\u001b[0m\u001b[0m\n\u001b[0m\u001b[1;32m    231\u001b[0m             \u001b[0;32mwhile\u001b[0m \u001b[0mr\u001b[0m \u001b[0;34m>=\u001b[0m \u001b[0mn\u001b[0m\u001b[0;34m:\u001b[0m\u001b[0;34m\u001b[0m\u001b[0m\n",
      "\u001b[0;31mValueError\u001b[0m: number of bits must be greater than zero",
      "\nDuring handling of the above exception, another exception occurred:\n",
      "\u001b[0;31mIndexError\u001b[0m                                Traceback (most recent call last)",
      "\u001b[0;32m<ipython-input-43-54b4fac2c2f6>\u001b[0m in \u001b[0;36m<module>\u001b[0;34m()\u001b[0m\n\u001b[1;32m     18\u001b[0m     \u001b[0;32mreturn\u001b[0m \u001b[0mgreeter_func\u001b[0m\u001b[0;34m(\u001b[0m\u001b[0mname\u001b[0m\u001b[0;34m)\u001b[0m\u001b[0;34m\u001b[0m\u001b[0m\n\u001b[1;32m     19\u001b[0m \u001b[0;34m\u001b[0m\u001b[0m\n\u001b[0;32m---> 20\u001b[0;31m \u001b[0mrandomly_greet\u001b[0m\u001b[0;34m(\u001b[0m\u001b[0;34m'John'\u001b[0m\u001b[0;34m)\u001b[0m\u001b[0;34m\u001b[0m\u001b[0m\n\u001b[0m",
      "\u001b[0;32m<ipython-input-43-54b4fac2c2f6>\u001b[0m in \u001b[0;36mrandomly_greet\u001b[0;34m(name)\u001b[0m\n\u001b[1;32m     14\u001b[0m \u001b[0;34m\u001b[0m\u001b[0m\n\u001b[1;32m     15\u001b[0m \u001b[0;32mdef\u001b[0m \u001b[0mrandomly_greet\u001b[0m\u001b[0;34m(\u001b[0m\u001b[0mname\u001b[0m\u001b[0;34m)\u001b[0m\u001b[0;34m:\u001b[0m\u001b[0;34m\u001b[0m\u001b[0m\n\u001b[0;32m---> 16\u001b[0;31m     \u001b[0mgreeter\u001b[0m\u001b[0;34m,\u001b[0m \u001b[0mgreeter_func\u001b[0m \u001b[0;34m=\u001b[0m \u001b[0mrandom\u001b[0m\u001b[0;34m.\u001b[0m\u001b[0mchoice\u001b[0m\u001b[0;34m(\u001b[0m\u001b[0mlist\u001b[0m\u001b[0;34m(\u001b[0m\u001b[0mPLUGINS\u001b[0m\u001b[0;34m.\u001b[0m\u001b[0mitems\u001b[0m\u001b[0;34m(\u001b[0m\u001b[0;34m)\u001b[0m\u001b[0;34m)\u001b[0m\u001b[0;34m)\u001b[0m\u001b[0;34m\u001b[0m\u001b[0m\n\u001b[0m\u001b[1;32m     17\u001b[0m     \u001b[0mprint\u001b[0m\u001b[0;34m(\u001b[0m\u001b[0;34m\"Using {}\"\u001b[0m\u001b[0;34m.\u001b[0m\u001b[0mformat\u001b[0m\u001b[0;34m(\u001b[0m\u001b[0mgreeter\u001b[0m\u001b[0;34m)\u001b[0m\u001b[0;34m)\u001b[0m\u001b[0;34m\u001b[0m\u001b[0m\n\u001b[1;32m     18\u001b[0m     \u001b[0;32mreturn\u001b[0m \u001b[0mgreeter_func\u001b[0m\u001b[0;34m(\u001b[0m\u001b[0mname\u001b[0m\u001b[0;34m)\u001b[0m\u001b[0;34m\u001b[0m\u001b[0m\n",
      "\u001b[0;32m/usr/lib/python3.5/random.py\u001b[0m in \u001b[0;36mchoice\u001b[0;34m(self, seq)\u001b[0m\n\u001b[1;32m    253\u001b[0m             \u001b[0mi\u001b[0m \u001b[0;34m=\u001b[0m \u001b[0mself\u001b[0m\u001b[0;34m.\u001b[0m\u001b[0m_randbelow\u001b[0m\u001b[0;34m(\u001b[0m\u001b[0mlen\u001b[0m\u001b[0;34m(\u001b[0m\u001b[0mseq\u001b[0m\u001b[0;34m)\u001b[0m\u001b[0;34m)\u001b[0m\u001b[0;34m\u001b[0m\u001b[0m\n\u001b[1;32m    254\u001b[0m         \u001b[0;32mexcept\u001b[0m \u001b[0mValueError\u001b[0m\u001b[0;34m:\u001b[0m\u001b[0;34m\u001b[0m\u001b[0m\n\u001b[0;32m--> 255\u001b[0;31m             \u001b[0;32mraise\u001b[0m \u001b[0mIndexError\u001b[0m\u001b[0;34m(\u001b[0m\u001b[0;34m'Cannot choose from an empty sequence'\u001b[0m\u001b[0;34m)\u001b[0m\u001b[0;34m\u001b[0m\u001b[0m\n\u001b[0m\u001b[1;32m    256\u001b[0m         \u001b[0;32mreturn\u001b[0m \u001b[0mseq\u001b[0m\u001b[0;34m[\u001b[0m\u001b[0mi\u001b[0m\u001b[0;34m]\u001b[0m\u001b[0;34m\u001b[0m\u001b[0m\n\u001b[1;32m    257\u001b[0m \u001b[0;34m\u001b[0m\u001b[0m\n",
      "\u001b[0;31mIndexError\u001b[0m: Cannot choose from an empty sequence"
     ]
    }
   ],
   "source": [
    "import random\n",
    "PLUGINS = dict()\n",
    "\n",
    "def register(func):\n",
    "    print(func)\n",
    "\n",
    "@register\n",
    "def say_hello(name):\n",
    "    return \"Hello {}\".format(name)\n",
    "\n",
    "@register\n",
    "def be_awesome(name):\n",
    "    return \"Yo {}, together we are the awesomest!\".format(name)\n",
    "\n",
    "def randomly_greet(name):\n",
    "    greeter, greeter_func = random.choice(list(PLUGINS.items()))\n",
    "    print(\"Using {}\".format(greeter))\n",
    "    return greeter_func(name)\n",
    "  \n",
    "randomly_greet('John') "
   ]
  }
 ],
 "metadata": {
  "kernelspec": {
   "display_name": "Python 3",
   "language": "python",
   "name": "python3"
  },
  "language_info": {
   "codemirror_mode": {
    "name": "ipython",
    "version": 3
   },
   "file_extension": ".py",
   "mimetype": "text/x-python",
   "name": "python",
   "nbconvert_exporter": "python",
   "pygments_lexer": "ipython3",
   "version": "3.5.2"
  }
 },
 "nbformat": 4,
 "nbformat_minor": 2
}
